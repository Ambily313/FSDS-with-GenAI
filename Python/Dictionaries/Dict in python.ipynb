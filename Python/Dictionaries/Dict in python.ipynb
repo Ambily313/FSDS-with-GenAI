{
 "cells": [
  {
   "cell_type": "code",
   "execution_count": 1,
   "id": "c638cd65",
   "metadata": {},
   "outputs": [],
   "source": [
    "info = {\"name\":\"Bappy\", \"age\":22, \"email\":\"boktiar@ineuron.ai\"}"
   ]
  },
  {
   "cell_type": "code",
   "execution_count": 2,
   "id": "3f43e4b9",
   "metadata": {},
   "outputs": [
    {
     "data": {
      "text/plain": [
       "'Bappy'"
      ]
     },
     "execution_count": 2,
     "metadata": {},
     "output_type": "execute_result"
    }
   ],
   "source": [
    "info[\"name\"]"
   ]
  },
  {
   "cell_type": "code",
   "execution_count": 3,
   "id": "f4bc36f8",
   "metadata": {},
   "outputs": [
    {
     "data": {
      "text/plain": [
       "22"
      ]
     },
     "execution_count": 3,
     "metadata": {},
     "output_type": "execute_result"
    }
   ],
   "source": [
    "info[\"age\"]"
   ]
  },
  {
   "cell_type": "code",
   "execution_count": 4,
   "id": "2beb056b",
   "metadata": {},
   "outputs": [
    {
     "data": {
      "text/plain": [
       "'boktiar@ineuron.ai'"
      ]
     },
     "execution_count": 4,
     "metadata": {},
     "output_type": "execute_result"
    }
   ],
   "source": [
    "info[\"email\"]"
   ]
  },
  {
   "cell_type": "code",
   "execution_count": 5,
   "id": "230f10a3",
   "metadata": {},
   "outputs": [
    {
     "ename": "KeyError",
     "evalue": "'phone'",
     "output_type": "error",
     "traceback": [
      "\u001b[1;31m---------------------------------------------------------------------------\u001b[0m",
      "\u001b[1;31mKeyError\u001b[0m                                  Traceback (most recent call last)",
      "Input \u001b[1;32mIn [5]\u001b[0m, in \u001b[0;36m<cell line: 1>\u001b[1;34m()\u001b[0m\n\u001b[1;32m----> 1\u001b[0m \u001b[43minfo\u001b[49m\u001b[43m[\u001b[49m\u001b[38;5;124;43m'\u001b[39;49m\u001b[38;5;124;43mphone\u001b[39;49m\u001b[38;5;124;43m'\u001b[39;49m\u001b[43m]\u001b[49m\n",
      "\u001b[1;31mKeyError\u001b[0m: 'phone'"
     ]
    }
   ],
   "source": [
    "info['phone']"
   ]
  },
  {
   "cell_type": "code",
   "execution_count": 9,
   "id": "71a57313",
   "metadata": {},
   "outputs": [
    {
     "name": "stdout",
     "output_type": "stream",
     "text": [
      "None\n"
     ]
    }
   ],
   "source": [
    "print(info.get(\"phone\"))"
   ]
  },
  {
   "cell_type": "code",
   "execution_count": 10,
   "id": "0a74acca",
   "metadata": {},
   "outputs": [],
   "source": [
    "info1 = {\"ineuron\": {\"name\":\"Bappy\", \"Age\":22},\n",
    "         \"dswithbappy\": {\"name\":\"dswith\",\"age\":45}\n",
    "        }"
   ]
  },
  {
   "cell_type": "code",
   "execution_count": 11,
   "id": "bb6355e7",
   "metadata": {},
   "outputs": [
    {
     "data": {
      "text/plain": [
       "dict"
      ]
     },
     "execution_count": 11,
     "metadata": {},
     "output_type": "execute_result"
    }
   ],
   "source": [
    "type(info1)"
   ]
  },
  {
   "cell_type": "code",
   "execution_count": 12,
   "id": "d9870ced",
   "metadata": {},
   "outputs": [
    {
     "data": {
      "text/plain": [
       "{'name': 'Bappy', 'Age': 22}"
      ]
     },
     "execution_count": 12,
     "metadata": {},
     "output_type": "execute_result"
    }
   ],
   "source": [
    "info1['ineuron']"
   ]
  },
  {
   "cell_type": "code",
   "execution_count": 13,
   "id": "7e13d965",
   "metadata": {},
   "outputs": [
    {
     "data": {
      "text/plain": [
       "dict"
      ]
     },
     "execution_count": 13,
     "metadata": {},
     "output_type": "execute_result"
    }
   ],
   "source": [
    "type(info1['ineuron'])"
   ]
  },
  {
   "cell_type": "code",
   "execution_count": 14,
   "id": "3aed9fe5",
   "metadata": {},
   "outputs": [
    {
     "data": {
      "text/plain": [
       "'Bappy'"
      ]
     },
     "execution_count": 14,
     "metadata": {},
     "output_type": "execute_result"
    }
   ],
   "source": [
    "info1['ineuron']['name']"
   ]
  },
  {
   "cell_type": "code",
   "execution_count": 15,
   "id": "56766e37",
   "metadata": {},
   "outputs": [],
   "source": [
    "info1 = {\"ineuron\": {\"name1\":\"Bappy\",\"name2\":\"karan\", \"Age\":22},\n",
    "         \"dswithbappy\": {\"name\":\"dswith\",\"age\":45}\n",
    "        }"
   ]
  },
  {
   "cell_type": "code",
   "execution_count": 16,
   "id": "fd416de8",
   "metadata": {},
   "outputs": [
    {
     "data": {
      "text/plain": [
       "'Bappy'"
      ]
     },
     "execution_count": 16,
     "metadata": {},
     "output_type": "execute_result"
    }
   ],
   "source": [
    "info1['ineuron']['name1']"
   ]
  },
  {
   "cell_type": "code",
   "execution_count": 17,
   "id": "0aaadc80",
   "metadata": {},
   "outputs": [
    {
     "data": {
      "text/plain": [
       "'karan'"
      ]
     },
     "execution_count": 17,
     "metadata": {},
     "output_type": "execute_result"
    }
   ],
   "source": [
    "info1['ineuron']['name2']"
   ]
  },
  {
   "cell_type": "code",
   "execution_count": 19,
   "id": "c75ced01",
   "metadata": {},
   "outputs": [
    {
     "data": {
      "text/plain": [
       "'Bappy'"
      ]
     },
     "execution_count": 19,
     "metadata": {},
     "output_type": "execute_result"
    }
   ],
   "source": [
    "info1.get(\"ineuron\").get(\"name1\")"
   ]
  },
  {
   "cell_type": "code",
   "execution_count": 20,
   "id": "ca1f3eb0",
   "metadata": {},
   "outputs": [],
   "source": [
    "info = {\"name\":\"Bappy\", \"age\":22, \"email\":\"boktiar@ineuron.ai\"}"
   ]
  },
  {
   "cell_type": "code",
   "execution_count": 21,
   "id": "b237debc",
   "metadata": {},
   "outputs": [
    {
     "data": {
      "text/plain": [
       "dict_values(['Bappy', 22, 'boktiar@ineuron.ai'])"
      ]
     },
     "execution_count": 21,
     "metadata": {},
     "output_type": "execute_result"
    }
   ],
   "source": [
    "info.values()"
   ]
  },
  {
   "cell_type": "code",
   "execution_count": 22,
   "id": "c764ebc0",
   "metadata": {},
   "outputs": [
    {
     "data": {
      "text/plain": [
       "dict_keys(['name', 'age', 'email'])"
      ]
     },
     "execution_count": 22,
     "metadata": {},
     "output_type": "execute_result"
    }
   ],
   "source": [
    "info.keys()"
   ]
  },
  {
   "cell_type": "code",
   "execution_count": 23,
   "id": "8b1395de",
   "metadata": {},
   "outputs": [
    {
     "data": {
      "text/plain": [
       "dict_items([('name', 'Bappy'), ('age', 22), ('email', 'boktiar@ineuron.ai')])"
      ]
     },
     "execution_count": 23,
     "metadata": {},
     "output_type": "execute_result"
    }
   ],
   "source": [
    "info.items()"
   ]
  },
  {
   "cell_type": "code",
   "execution_count": 26,
   "id": "264fc770",
   "metadata": {},
   "outputs": [],
   "source": [
    "tem = info.items()"
   ]
  },
  {
   "cell_type": "code",
   "execution_count": 29,
   "id": "42f02c14",
   "metadata": {},
   "outputs": [
    {
     "name": "stdout",
     "output_type": "stream",
     "text": [
      "('name', 'Bappy')\n",
      "('age', 22)\n",
      "('email', 'boktiar@ineuron.ai')\n"
     ]
    }
   ],
   "source": [
    "for i in tem:\n",
    "    print(i)"
   ]
  },
  {
   "cell_type": "code",
   "execution_count": 28,
   "id": "449a332f",
   "metadata": {},
   "outputs": [
    {
     "name": "stdout",
     "output_type": "stream",
     "text": [
      "<class 'tuple'>\n",
      "<class 'tuple'>\n",
      "<class 'tuple'>\n"
     ]
    }
   ],
   "source": [
    "for i in tem:\n",
    "    print(type(i))"
   ]
  },
  {
   "cell_type": "code",
   "execution_count": 30,
   "id": "d9463f91",
   "metadata": {},
   "outputs": [],
   "source": [
    "student_marks = {\n",
    "    \"class1\":[2,3,4,5,6,7],\n",
    "    \"class2\":[4,5,6,7,8,9]\n",
    "}"
   ]
  },
  {
   "cell_type": "code",
   "execution_count": 31,
   "id": "a8042745",
   "metadata": {},
   "outputs": [
    {
     "data": {
      "text/plain": [
       "[2, 3, 4, 5, 6, 7]"
      ]
     },
     "execution_count": 31,
     "metadata": {},
     "output_type": "execute_result"
    }
   ],
   "source": [
    "student_marks['class1']"
   ]
  },
  {
   "cell_type": "code",
   "execution_count": 32,
   "id": "b6b32d84",
   "metadata": {},
   "outputs": [
    {
     "data": {
      "text/plain": [
       "list"
      ]
     },
     "execution_count": 32,
     "metadata": {},
     "output_type": "execute_result"
    }
   ],
   "source": [
    "type(student_marks['class1'])"
   ]
  },
  {
   "cell_type": "code",
   "execution_count": 33,
   "id": "ae97920d",
   "metadata": {},
   "outputs": [],
   "source": [
    "student_marks = {\n",
    "    \"class1\":(2,3,4,5,6,7),\n",
    "    \"class2\":(4,5,6,7,8,9)\n",
    "}"
   ]
  },
  {
   "cell_type": "code",
   "execution_count": 34,
   "id": "d3dd2555",
   "metadata": {},
   "outputs": [
    {
     "data": {
      "text/plain": [
       "(2, 3, 4, 5, 6, 7)"
      ]
     },
     "execution_count": 34,
     "metadata": {},
     "output_type": "execute_result"
    }
   ],
   "source": [
    "student_marks['class1']"
   ]
  },
  {
   "cell_type": "code",
   "execution_count": 35,
   "id": "c3952565",
   "metadata": {},
   "outputs": [
    {
     "data": {
      "text/plain": [
       "tuple"
      ]
     },
     "execution_count": 35,
     "metadata": {},
     "output_type": "execute_result"
    }
   ],
   "source": [
    "type(student_marks['class1'])"
   ]
  },
  {
   "cell_type": "code",
   "execution_count": 36,
   "id": "43c83828",
   "metadata": {},
   "outputs": [
    {
     "ename": "NameError",
     "evalue": "name 'class1' is not defined",
     "output_type": "error",
     "traceback": [
      "\u001b[1;31m---------------------------------------------------------------------------\u001b[0m",
      "\u001b[1;31mNameError\u001b[0m                                 Traceback (most recent call last)",
      "Input \u001b[1;32mIn [36]\u001b[0m, in \u001b[0;36m<cell line: 1>\u001b[1;34m()\u001b[0m\n\u001b[1;32m----> 1\u001b[0m student_marks[\u001b[43mclass1\u001b[49m]\n",
      "\u001b[1;31mNameError\u001b[0m: name 'class1' is not defined"
     ]
    }
   ],
   "source": [
    "student_marks[class1]"
   ]
  },
  {
   "cell_type": "code",
   "execution_count": 37,
   "id": "8db2b3fc",
   "metadata": {},
   "outputs": [],
   "source": [
    "dic = {\n",
    "    123:\"Bappy\",\n",
    "    234:\"karan\"\n",
    "}"
   ]
  },
  {
   "cell_type": "code",
   "execution_count": 38,
   "id": "bd9d2e18",
   "metadata": {},
   "outputs": [
    {
     "data": {
      "text/plain": [
       "'Bappy'"
      ]
     },
     "execution_count": 38,
     "metadata": {},
     "output_type": "execute_result"
    }
   ],
   "source": [
    "dic[123]"
   ]
  },
  {
   "cell_type": "code",
   "execution_count": 39,
   "id": "081fc250",
   "metadata": {},
   "outputs": [
    {
     "ename": "KeyError",
     "evalue": "'123'",
     "output_type": "error",
     "traceback": [
      "\u001b[1;31m---------------------------------------------------------------------------\u001b[0m",
      "\u001b[1;31mKeyError\u001b[0m                                  Traceback (most recent call last)",
      "Input \u001b[1;32mIn [39]\u001b[0m, in \u001b[0;36m<cell line: 1>\u001b[1;34m()\u001b[0m\n\u001b[1;32m----> 1\u001b[0m \u001b[43mdic\u001b[49m\u001b[43m[\u001b[49m\u001b[38;5;124;43m\"\u001b[39;49m\u001b[38;5;124;43m123\u001b[39;49m\u001b[38;5;124;43m\"\u001b[39;49m\u001b[43m]\u001b[49m\n",
      "\u001b[1;31mKeyError\u001b[0m: '123'"
     ]
    }
   ],
   "source": [
    "dic[\"123\"]"
   ]
  },
  {
   "cell_type": "code",
   "execution_count": 40,
   "id": "9692b14e",
   "metadata": {},
   "outputs": [],
   "source": [
    "info = {\"name\":\"Bappy\", \"age\":22, \"email\":\"boktiar@ineuron.ai\"}"
   ]
  },
  {
   "cell_type": "code",
   "execution_count": null,
   "id": "9fd65769",
   "metadata": {},
   "outputs": [],
   "source": [
    "info.values()"
   ]
  },
  {
   "cell_type": "code",
   "execution_count": 43,
   "id": "669569cc",
   "metadata": {},
   "outputs": [
    {
     "name": "stdout",
     "output_type": "stream",
     "text": [
      "Bappy\n",
      "22\n",
      "boktiar@ineuron.ai\n"
     ]
    }
   ],
   "source": [
    "for val in info.values():\n",
    "    print(val)"
   ]
  },
  {
   "cell_type": "code",
   "execution_count": 45,
   "id": "2cbd98e4",
   "metadata": {},
   "outputs": [
    {
     "name": "stdout",
     "output_type": "stream",
     "text": [
      "name Bappy\n",
      "age 22\n",
      "email boktiar@ineuron.ai\n"
     ]
    }
   ],
   "source": [
    "for key,val in info.items():\n",
    "    print(key,val)"
   ]
  },
  {
   "cell_type": "code",
   "execution_count": 46,
   "id": "ff3cd594",
   "metadata": {},
   "outputs": [
    {
     "name": "stdout",
     "output_type": "stream",
     "text": [
      "name: Bappy\n",
      "age: 22\n",
      "email: boktiar@ineuron.ai\n"
     ]
    }
   ],
   "source": [
    "for key,val in info.items():\n",
    "    print(key,val,sep=\": \")\n"
   ]
  },
  {
   "cell_type": "markdown",
   "id": "cbd4a87e",
   "metadata": {},
   "source": [
    "## practice"
   ]
  },
  {
   "cell_type": "code",
   "execution_count": 50,
   "id": "b02bc1a4",
   "metadata": {},
   "outputs": [],
   "source": [
    "nested_dict = {\n",
    "    'user1': {\n",
    "        'name': 'Alice',\n",
    "        'age': 30,\n",
    "        'address': {\n",
    "            'street': '123 Main St',\n",
    "            'city': 'New York',\n",
    "            'zip': '10001'\n",
    "        },\n",
    "        'contacts': {\n",
    "            'email': 'alice@example.com',\n",
    "            'phone': '555-1234'\n",
    "        }\n",
    "    },\n",
    "    'user2': {\n",
    "        'name': 'Bob',\n",
    "        'age': 25,\n",
    "        'address': {\n",
    "            'street': '456 Elm St',\n",
    "            'city': 'Los Angeles',\n",
    "            'zip': '90001'\n",
    "        },\n",
    "        'contacts': {\n",
    "            'email': 'bob@example.com',\n",
    "            'phone': '555-5678'\n",
    "        }\n",
    "    }\n",
    "}\n"
   ]
  },
  {
   "cell_type": "code",
   "execution_count": 55,
   "id": "59589fa9",
   "metadata": {},
   "outputs": [
    {
     "data": {
      "text/plain": [
       "{'user1': {'name': 'Alice',\n",
       "  'age': 30,\n",
       "  'address': {'street': '123 Main St', 'city': 'New York', 'zip': '10001'},\n",
       "  'contacts': {'email': 'alice@example.com', 'phone': '555-1234'}},\n",
       " 'user2': {'name': 'Bob',\n",
       "  'age': 25,\n",
       "  'address': {'street': '456 Elm St', 'city': 'Los Angeles', 'zip': '90001'},\n",
       "  'contacts': {'email': 'bob@example.com', 'phone': '555-5678'}}}"
      ]
     },
     "execution_count": 55,
     "metadata": {},
     "output_type": "execute_result"
    }
   ],
   "source": [
    "nested_dict"
   ]
  },
  {
   "cell_type": "code",
   "execution_count": 58,
   "id": "b7f93165",
   "metadata": {},
   "outputs": [
    {
     "data": {
      "text/plain": [
       "'10001'"
      ]
     },
     "execution_count": 58,
     "metadata": {},
     "output_type": "execute_result"
    }
   ],
   "source": [
    "nested_dict['user1']['address']['zip']"
   ]
  },
  {
   "cell_type": "code",
   "execution_count": 52,
   "id": "fab7978a",
   "metadata": {},
   "outputs": [
    {
     "data": {
      "text/plain": [
       "'10001'"
      ]
     },
     "execution_count": 52,
     "metadata": {},
     "output_type": "execute_result"
    }
   ],
   "source": [
    "nested_dict[\"user1\"][\"address\"][\"zip\"]\n"
   ]
  },
  {
   "cell_type": "code",
   "execution_count": 54,
   "id": "06d7e2a0",
   "metadata": {},
   "outputs": [
    {
     "data": {
      "text/plain": [
       "'555-5678'"
      ]
     },
     "execution_count": 54,
     "metadata": {},
     "output_type": "execute_result"
    }
   ],
   "source": [
    "nested_dict['user2']['contacts']['phone']"
   ]
  },
  {
   "cell_type": "code",
   "execution_count": 59,
   "id": "cd82b241",
   "metadata": {},
   "outputs": [],
   "source": [
    "complex_dict = {\n",
    "    'company': 'TechCorp',\n",
    "    'employees': {\n",
    "        'John': {\n",
    "            'age': 35,\n",
    "            'position': 'Software Engineer',\n",
    "            'projects': ['Project A', 'Project B'],\n",
    "            'salary': 85000.00,\n",
    "            'performance': {\n",
    "                '2019': 'Excellent',\n",
    "                '2020': 'Satisfactory',\n",
    "                '2021': 'Outstanding'\n",
    "            }\n",
    "        },\n",
    "        'Emily': {\n",
    "            'age': 28,\n",
    "            'position': 'Data Scientist',\n",
    "            'projects': ['Project B', 'Project C'],\n",
    "            'salary': 90000.00,\n",
    "            'performance': {\n",
    "                '2019': 'Satisfactory',\n",
    "                '2020': 'Outstanding',\n",
    "                '2021': 'Excellent'\n",
    "            }\n",
    "        }\n",
    "    },\n",
    "    'departments': {\n",
    "        'engineering': ['John'],\n",
    "        'data_science': ['Emily']\n",
    "    },\n",
    "    'locations': {\n",
    "        'headquarters': {\n",
    "            'city': 'San Francisco',\n",
    "            'country': 'USA'\n",
    "        },\n",
    "        'branch_offices': [\n",
    "            {\n",
    "                'city': 'New York',\n",
    "                'country': 'USA'\n",
    "            },\n",
    "            {\n",
    "                'city': 'London',\n",
    "                'country': 'UK'\n",
    "            }\n",
    "        ]\n",
    "    }\n",
    "}\n"
   ]
  },
  {
   "cell_type": "code",
   "execution_count": 64,
   "id": "c214f055",
   "metadata": {},
   "outputs": [
    {
     "data": {
      "text/plain": [
       "dict_keys(['company', 'employees', 'departments', 'locations'])"
      ]
     },
     "execution_count": 64,
     "metadata": {},
     "output_type": "execute_result"
    }
   ],
   "source": [
    "complex_dict.keys()"
   ]
  },
  {
   "cell_type": "code",
   "execution_count": 66,
   "id": "f1ac2da7",
   "metadata": {},
   "outputs": [
    {
     "data": {
      "text/plain": [
       "'USA'"
      ]
     },
     "execution_count": 66,
     "metadata": {},
     "output_type": "execute_result"
    }
   ],
   "source": [
    "complex_dict['locations']['branch_offices'][0]['country']\n",
    "\n"
   ]
  },
  {
   "cell_type": "code",
   "execution_count": 67,
   "id": "30005b4b",
   "metadata": {},
   "outputs": [
    {
     "data": {
      "text/plain": [
       "[{'city': 'New York', 'country': 'USA'}, {'city': 'London', 'country': 'UK'}]"
      ]
     },
     "execution_count": 67,
     "metadata": {},
     "output_type": "execute_result"
    }
   ],
   "source": [
    "complex_dict['locations']['branch_offices']"
   ]
  },
  {
   "cell_type": "markdown",
   "id": "5f557edd",
   "metadata": {},
   "source": [
    "## Dictionary Methods"
   ]
  },
  {
   "cell_type": "markdown",
   "id": "95ab038c",
   "metadata": {},
   "source": [
    "## update()"
   ]
  },
  {
   "cell_type": "code",
   "execution_count": 68,
   "id": "fac203e0",
   "metadata": {},
   "outputs": [],
   "source": [
    "info = {\"name\":\"Bappy\", \"age\":22, \"email\":\"boktiar@ineuron.ai\"}"
   ]
  },
  {
   "cell_type": "code",
   "execution_count": 69,
   "id": "03bb5193",
   "metadata": {},
   "outputs": [],
   "source": [
    "info.update({\"phone\":454654654})"
   ]
  },
  {
   "cell_type": "code",
   "execution_count": 70,
   "id": "9d0fb2f3",
   "metadata": {},
   "outputs": [
    {
     "data": {
      "text/plain": [
       "{'name': 'Bappy', 'age': 22, 'email': 'boktiar@ineuron.ai', 'phone': 454654654}"
      ]
     },
     "execution_count": 70,
     "metadata": {},
     "output_type": "execute_result"
    }
   ],
   "source": [
    "info"
   ]
  },
  {
   "cell_type": "code",
   "execution_count": 71,
   "id": "cf07c00f",
   "metadata": {},
   "outputs": [],
   "source": [
    "extra_info = {\"Gender\":\"male\", \"city\":\"Bengaluru\", \"Country\":\"india\"}"
   ]
  },
  {
   "cell_type": "code",
   "execution_count": 72,
   "id": "55f8f5e8",
   "metadata": {},
   "outputs": [],
   "source": [
    "info.update(extra_info)"
   ]
  },
  {
   "cell_type": "code",
   "execution_count": 73,
   "id": "0e002b33",
   "metadata": {},
   "outputs": [
    {
     "data": {
      "text/plain": [
       "{'name': 'Bappy',\n",
       " 'age': 22,\n",
       " 'email': 'boktiar@ineuron.ai',\n",
       " 'phone': 454654654,\n",
       " 'Gender': 'male',\n",
       " 'city': 'Bengaluru',\n",
       " 'Country': 'india'}"
      ]
     },
     "execution_count": 73,
     "metadata": {},
     "output_type": "execute_result"
    }
   ],
   "source": [
    "info"
   ]
  },
  {
   "cell_type": "markdown",
   "id": "e8343611",
   "metadata": {},
   "source": [
    "## clear()"
   ]
  },
  {
   "cell_type": "code",
   "execution_count": 74,
   "id": "2688f9a2",
   "metadata": {},
   "outputs": [],
   "source": [
    "info = {\"name\":\"Bappy\", \"age\":22, \"email\":\"boktiar@ineuron.ai\"}"
   ]
  },
  {
   "cell_type": "code",
   "execution_count": 75,
   "id": "c520f909",
   "metadata": {},
   "outputs": [
    {
     "data": {
      "text/plain": [
       "{'name': 'Bappy', 'age': 22, 'email': 'boktiar@ineuron.ai'}"
      ]
     },
     "execution_count": 75,
     "metadata": {},
     "output_type": "execute_result"
    }
   ],
   "source": [
    "info"
   ]
  },
  {
   "cell_type": "code",
   "execution_count": 76,
   "id": "e997ec69",
   "metadata": {},
   "outputs": [],
   "source": [
    "info.clear()"
   ]
  },
  {
   "cell_type": "code",
   "execution_count": 77,
   "id": "8ef41e27",
   "metadata": {},
   "outputs": [
    {
     "data": {
      "text/plain": [
       "{}"
      ]
     },
     "execution_count": 77,
     "metadata": {},
     "output_type": "execute_result"
    }
   ],
   "source": [
    "info"
   ]
  },
  {
   "cell_type": "markdown",
   "id": "aef5327a",
   "metadata": {},
   "source": [
    "## pop()"
   ]
  },
  {
   "cell_type": "code",
   "execution_count": 91,
   "id": "03e4a196",
   "metadata": {},
   "outputs": [],
   "source": [
    "info = {\"name\":\"Bappy\", \"age\":22, \"email\":\"boktiar@ineuron.ai\"}"
   ]
  },
  {
   "cell_type": "code",
   "execution_count": 92,
   "id": "a8622d4b",
   "metadata": {},
   "outputs": [
    {
     "data": {
      "text/plain": [
       "{'name': 'Bappy', 'age': 22, 'email': 'boktiar@ineuron.ai'}"
      ]
     },
     "execution_count": 92,
     "metadata": {},
     "output_type": "execute_result"
    }
   ],
   "source": [
    "info"
   ]
  },
  {
   "cell_type": "code",
   "execution_count": 93,
   "id": "41feda6a",
   "metadata": {},
   "outputs": [
    {
     "data": {
      "text/plain": [
       "'Bappy'"
      ]
     },
     "execution_count": 93,
     "metadata": {},
     "output_type": "execute_result"
    }
   ],
   "source": [
    "info.pop(\"name\")"
   ]
  },
  {
   "cell_type": "code",
   "execution_count": 94,
   "id": "8cd62538",
   "metadata": {},
   "outputs": [
    {
     "data": {
      "text/plain": [
       "{'age': 22, 'email': 'boktiar@ineuron.ai'}"
      ]
     },
     "execution_count": 94,
     "metadata": {},
     "output_type": "execute_result"
    }
   ],
   "source": [
    "info"
   ]
  },
  {
   "cell_type": "markdown",
   "id": "5696f5a3",
   "metadata": {},
   "source": [
    "## popitem()"
   ]
  },
  {
   "cell_type": "code",
   "execution_count": 82,
   "id": "4581942b",
   "metadata": {},
   "outputs": [
    {
     "data": {
      "text/plain": [
       "{'name': 'Bappy', 'age': 22, 'email': 'boktiar@ineuron.ai'}"
      ]
     },
     "execution_count": 82,
     "metadata": {},
     "output_type": "execute_result"
    }
   ],
   "source": [
    "info = {\"name\":\"Bappy\", \"age\":22, \"email\":\"boktiar@ineuron.ai\"}\n",
    "info"
   ]
  },
  {
   "cell_type": "code",
   "execution_count": 83,
   "id": "55842a49",
   "metadata": {},
   "outputs": [
    {
     "data": {
      "text/plain": [
       "('email', 'boktiar@ineuron.ai')"
      ]
     },
     "execution_count": 83,
     "metadata": {},
     "output_type": "execute_result"
    }
   ],
   "source": [
    "info.popitem()"
   ]
  },
  {
   "cell_type": "code",
   "execution_count": 84,
   "id": "9446a6b8",
   "metadata": {},
   "outputs": [
    {
     "data": {
      "text/plain": [
       "{'name': 'Bappy', 'age': 22}"
      ]
     },
     "execution_count": 84,
     "metadata": {},
     "output_type": "execute_result"
    }
   ],
   "source": [
    "info"
   ]
  },
  {
   "cell_type": "code",
   "execution_count": 85,
   "id": "0284bcc0",
   "metadata": {},
   "outputs": [
    {
     "ename": "SyntaxError",
     "evalue": "invalid syntax (3741458434.py, line 1)",
     "output_type": "error",
     "traceback": [
      "\u001b[1;36m  Input \u001b[1;32mIn [85]\u001b[1;36m\u001b[0m\n\u001b[1;33m    info = {\"name\":, \"age\":22, \"email\":\"boktiar@ineuron.ai\"}\u001b[0m\n\u001b[1;37m                   ^\u001b[0m\n\u001b[1;31mSyntaxError\u001b[0m\u001b[1;31m:\u001b[0m invalid syntax\n"
     ]
    }
   ],
   "source": [
    "info = {\"name\":, \"age\":22, \"email\":\"boktiar@ineuron.ai\"}\n",
    "info"
   ]
  },
  {
   "cell_type": "code",
   "execution_count": 86,
   "id": "9c00c6fa",
   "metadata": {},
   "outputs": [
    {
     "data": {
      "text/plain": [
       "{'name': 'Bappy', 'age': 22, 'email': 'boktiar@ineuron.ai'}"
      ]
     },
     "execution_count": 86,
     "metadata": {},
     "output_type": "execute_result"
    }
   ],
   "source": [
    "info = {\"name\":\"Bappy\", \"age\":22, \"email\":\"boktiar@ineuron.ai\"}\n",
    "info"
   ]
  },
  {
   "cell_type": "code",
   "execution_count": 87,
   "id": "463221e1",
   "metadata": {},
   "outputs": [
    {
     "ename": "KeyError",
     "evalue": "0",
     "output_type": "error",
     "traceback": [
      "\u001b[1;31m---------------------------------------------------------------------------\u001b[0m",
      "\u001b[1;31mKeyError\u001b[0m                                  Traceback (most recent call last)",
      "Input \u001b[1;32mIn [87]\u001b[0m, in \u001b[0;36m<cell line: 1>\u001b[1;34m()\u001b[0m\n\u001b[1;32m----> 1\u001b[0m \u001b[43minfo\u001b[49m\u001b[43m[\u001b[49m\u001b[38;5;241;43m0\u001b[39;49m\u001b[43m]\u001b[49m\n",
      "\u001b[1;31mKeyError\u001b[0m: 0"
     ]
    }
   ],
   "source": [
    "info[0]"
   ]
  },
  {
   "cell_type": "code",
   "execution_count": 88,
   "id": "2bac480a",
   "metadata": {},
   "outputs": [
    {
     "data": {
      "text/plain": [
       "{'name': 'Bappy', 'age': 22, 'email': 'boktiar@ineuron.ai'}"
      ]
     },
     "execution_count": 88,
     "metadata": {},
     "output_type": "execute_result"
    }
   ],
   "source": [
    "info = {\"name\":\"Bappy\", \"age\":22, \"email\":\"boktiar@ineuron.ai\"}\n",
    "info"
   ]
  },
  {
   "cell_type": "code",
   "execution_count": 89,
   "id": "fec224d2",
   "metadata": {},
   "outputs": [],
   "source": [
    "info['name'] = \"karan\""
   ]
  },
  {
   "cell_type": "code",
   "execution_count": 90,
   "id": "9bbcd0f0",
   "metadata": {},
   "outputs": [
    {
     "data": {
      "text/plain": [
       "{'name': 'karan', 'age': 22, 'email': 'boktiar@ineuron.ai'}"
      ]
     },
     "execution_count": 90,
     "metadata": {},
     "output_type": "execute_result"
    }
   ],
   "source": [
    "info\n"
   ]
  },
  {
   "cell_type": "code",
   "execution_count": 96,
   "id": "ddcdc56b",
   "metadata": {},
   "outputs": [],
   "source": [
    "info = {\"name\":\"Bappy\", \"age\":22, \"email\":\"boktiar@ineuron.ai\"}\n",
    "temp = info.copy()"
   ]
  },
  {
   "cell_type": "code",
   "execution_count": 97,
   "id": "80938f88",
   "metadata": {},
   "outputs": [
    {
     "data": {
      "text/plain": [
       "{'name': 'Bappy', 'age': 22, 'email': 'boktiar@ineuron.ai'}"
      ]
     },
     "execution_count": 97,
     "metadata": {},
     "output_type": "execute_result"
    }
   ],
   "source": [
    "temp"
   ]
  },
  {
   "cell_type": "code",
   "execution_count": 98,
   "id": "9c86d7a0",
   "metadata": {},
   "outputs": [],
   "source": [
    "newKey = 77"
   ]
  },
  {
   "cell_type": "code",
   "execution_count": 102,
   "id": "12794e0e",
   "metadata": {},
   "outputs": [],
   "source": [
    "d = {1:2,3:4}\n",
    "\n",
    "d[newKey] = d[1]\n",
    "del d[1]"
   ]
  },
  {
   "cell_type": "code",
   "execution_count": 103,
   "id": "d39e6ac0",
   "metadata": {},
   "outputs": [
    {
     "data": {
      "text/plain": [
       "{3: 4, 77: 2}"
      ]
     },
     "execution_count": 103,
     "metadata": {},
     "output_type": "execute_result"
    }
   ],
   "source": [
    "d"
   ]
  },
  {
   "cell_type": "markdown",
   "id": "30f4ccba",
   "metadata": {},
   "source": [
    "## practice"
   ]
  },
  {
   "cell_type": "code",
   "execution_count": 113,
   "id": "7c91f972",
   "metadata": {},
   "outputs": [],
   "source": [
    "# Write a  Python script to concatenate the following dictionaries to create a new one.\n",
    "\n",
    "dic1={1:10, 2:20}\n",
    "dic2={3:30, 4:40}\n",
    "dic3={5:50,6:60}\n",
    "\n",
    "#Expected Result : {1: 10, 2: 20, 3: 30, 4: 40, 5: 50, 6: 60}"
   ]
  },
  {
   "cell_type": "code",
   "execution_count": null,
   "id": "7333d1af",
   "metadata": {},
   "outputs": [],
   "source": []
  },
  {
   "cell_type": "code",
   "execution_count": 114,
   "id": "e22572d3",
   "metadata": {},
   "outputs": [
    {
     "name": "stdout",
     "output_type": "stream",
     "text": [
      "Concatenated dictionary: {1: 10, 2: 20, 3: 30, 4: 40, 5: 50, 6: 60}\n"
     ]
    }
   ],
   "source": [
    "dic1 = {1: 10, 2: 20}\n",
    "dic2 = {3: 30, 4: 40}\n",
    "dic3 = {5: 50, 6: 60}\n",
    "\n",
    "result = {}\n",
    "\n",
    "for d in [dic1, dic2, dic3]:\n",
    "    result.update(d)\n",
    "\n",
    "print(\"Concatenated dictionary:\", result)\n"
   ]
  },
  {
   "cell_type": "code",
   "execution_count": null,
   "id": "d14348d7",
   "metadata": {},
   "outputs": [],
   "source": [
    "# Write a Python script to check whether a given key already exists in a dictionary.\n",
    "d = {1: 10, 2: 20, 3: 30, 4: 40, 5: 50, 6: 60}\n",
    "\n",
    "user input = 1\n",
    "print(\"yes\")\n",
    "\n",
    "print(\"no\")"
   ]
  },
  {
   "cell_type": "code",
   "execution_count": 1,
   "id": "e16567fe",
   "metadata": {},
   "outputs": [
    {
     "name": "stdout",
     "output_type": "stream",
     "text": [
      "2\n",
      "yes\n"
     ]
    }
   ],
   "source": [
    "dic={1:20,2:20,3:30}\n",
    "\n",
    "num=int(input())\n",
    "\n",
    "if num in dic:\n",
    "    print(\"yes\")\n",
    "else:\n",
    "    print(\"no\")\n",
    "\n"
   ]
  },
  {
   "cell_type": "code",
   "execution_count": null,
   "id": "45909772",
   "metadata": {},
   "outputs": [],
   "source": [
    "## Write a Python program to sum all the items in a dictionary.\n",
    "\n",
    "my_dict = {'data1': 100, 'data2': 54, 'data3': 247}"
   ]
  },
  {
   "cell_type": "code",
   "execution_count": 2,
   "id": "cff218d1",
   "metadata": {},
   "outputs": [
    {
     "data": {
      "text/plain": [
       "401"
      ]
     },
     "execution_count": 2,
     "metadata": {},
     "output_type": "execute_result"
    }
   ],
   "source": [
    "100 + 54 + 247"
   ]
  },
  {
   "cell_type": "code",
   "execution_count": 3,
   "id": "a1fd3816",
   "metadata": {},
   "outputs": [
    {
     "name": "stdout",
     "output_type": "stream",
     "text": [
      "401\n"
     ]
    }
   ],
   "source": [
    "d={'data1':100,'data2':54,'data3':247}\n",
    "sum=0\n",
    "for i in d.values():\n",
    "    sum=sum+i\n",
    "print(sum)\n"
   ]
  },
  {
   "cell_type": "code",
   "execution_count": 4,
   "id": "cab362ff",
   "metadata": {},
   "outputs": [],
   "source": [
    "d={'data1':100,'data2':54,'data3':247}"
   ]
  },
  {
   "cell_type": "code",
   "execution_count": 7,
   "id": "66a39e18",
   "metadata": {},
   "outputs": [
    {
     "name": "stdout",
     "output_type": "stream",
     "text": [
      "401\n"
     ]
    }
   ],
   "source": [
    "out = 0\n",
    "for i in d.values():\n",
    "    out = out + i\n",
    "\n",
    "print(out)"
   ]
  },
  {
   "cell_type": "code",
   "execution_count": 8,
   "id": "b42c55c2",
   "metadata": {},
   "outputs": [
    {
     "name": "stdout",
     "output_type": "stream",
     "text": [
      "{'a': 1, 'b': 2, 'c': 3, 'd': 4, 'e': 5}\n"
     ]
    }
   ],
   "source": [
    "\n",
    "\n",
    "keys = ['a','b','c','d','e']\n",
    "values = [1,2,3,4,5]  \n",
    " \n",
    " \n",
    "myDict = { k:v for (k,v) in zip(keys, values)}  \n",
    " \n",
    "\n",
    "print (myDict)"
   ]
  },
  {
   "cell_type": "code",
   "execution_count": 12,
   "id": "841be8f2",
   "metadata": {},
   "outputs": [
    {
     "data": {
      "text/plain": [
       "[('a', 1), ('b', 2), ('c', 3), ('d', 4), ('e', 5)]"
      ]
     },
     "execution_count": 12,
     "metadata": {},
     "output_type": "execute_result"
    }
   ],
   "source": [
    "a = list(zip(keys, values))\n",
    "a\n"
   ]
  },
  {
   "cell_type": "code",
   "execution_count": 14,
   "id": "599716a4",
   "metadata": {},
   "outputs": [
    {
     "name": "stdout",
     "output_type": "stream",
     "text": [
      "a 1\n",
      "b 2\n",
      "c 3\n",
      "d 4\n",
      "e 5\n"
     ]
    }
   ],
   "source": [
    "for i,j in a:\n",
    "    print(i,j)"
   ]
  },
  {
   "cell_type": "code",
   "execution_count": null,
   "id": "d4f85e1a",
   "metadata": {},
   "outputs": [],
   "source": []
  }
 ],
 "metadata": {
  "kernelspec": {
   "display_name": "Python 3 (ipykernel)",
   "language": "python",
   "name": "python3"
  },
  "language_info": {
   "codemirror_mode": {
    "name": "ipython",
    "version": 3
   },
   "file_extension": ".py",
   "mimetype": "text/x-python",
   "name": "python",
   "nbconvert_exporter": "python",
   "pygments_lexer": "ipython3",
   "version": "3.9.12"
  }
 },
 "nbformat": 4,
 "nbformat_minor": 5
}
